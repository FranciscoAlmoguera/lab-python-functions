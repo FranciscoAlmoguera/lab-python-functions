{
  "nbformat": 4,
  "nbformat_minor": 0,
  "metadata": {
    "colab": {
      "provenance": []
    },
    "kernelspec": {
      "name": "python3",
      "display_name": "Python 3"
    },
    "language_info": {
      "name": "python"
    }
  },
  "cells": [
    {
      "cell_type": "code",
      "execution_count": 1,
      "metadata": {
        "id": "ugMlyqrafch9",
        "colab": {
          "base_uri": "https://localhost:8080/"
        },
        "outputId": "47bdffb8-291a-44aa-b298-959a3c59c9d7"
      },
      "outputs": [
        {
          "output_type": "stream",
          "name": "stdout",
          "text": [
            "Enter the quantity available for t-shirt: 50\n",
            "Enter the quantity available for mug: 400\n",
            "Enter the quantity available for hat: 300\n",
            "Enter the quantity available for book: 200\n",
            "Enter the quantity available for keychain: 100\n",
            "Enter the name of a product that the customer wants to order: hat\n",
            "hat has been added to the order.\n",
            "Do you want to add another product? (yes/no): yes\n",
            "Enter the name of a product that the customer wants to order: mug\n",
            "mug has been added to the order.\n",
            "Do you want to add another product? (yes/no): yes\n",
            "Enter the name of a product that the customer wants to order: book\n",
            "book has been added to the order.\n",
            "Do you want to add another product? (yes/no): no\n",
            "Order Statistics:\n",
            "Total Products Ordered: 3\n",
            "Percentage of Products Ordered: 60.00%\n",
            "Updated Inventory:\n",
            "t-shirt: 50\n",
            "mug: 399\n",
            "hat: 299\n",
            "book: 199\n",
            "keychain: 100\n"
          ]
        }
      ],
      "source": [
        "def initialize_inventory(products):\n",
        "    \"\"\"Initialize the inventory with user input.\"\"\"\n",
        "    inventory = {}\n",
        "    for product in products:\n",
        "        quantity = int(input(f\"Enter the quantity available for {product}: \"))\n",
        "        inventory[product] = quantity\n",
        "    return inventory\n",
        "\n",
        "def get_customer_orders():\n",
        "    \"\"\"Prompt the user for product orders and return a set of customer orders.\"\"\"\n",
        "    customer_orders = set()\n",
        "    while True:\n",
        "        product = input(\"Enter the name of a product that the customer wants to order: \").lower()\n",
        "        if product in products:\n",
        "            customer_orders.add(product)\n",
        "            print(f\"{product} has been added to the order.\")\n",
        "        else:\n",
        "            print(f\"{product} is not available. Please choose from {products}.\")\n",
        "\n",
        "        another = input(\"Do you want to add another product? (yes/no): \").lower()\n",
        "        if another != 'yes':\n",
        "            break\n",
        "    return customer_orders\n",
        "\n",
        "def update_inventory(customer_orders, inventory):\n",
        "    \"\"\"Update the inventory based on customer orders.\"\"\"\n",
        "    for product in customer_orders:\n",
        "        if inventory[product] > 0:\n",
        "            inventory[product] -= 1\n",
        "        else:\n",
        "            print(f\"Sorry, {product} is out of stock!\")\n",
        "\n",
        "def calculate_order_statistics(customer_orders, products):\n",
        "    \"\"\"Calculate and return the total products ordered and percentage of unique products ordered.\"\"\"\n",
        "    total_products_ordered = len(customer_orders)\n",
        "    percentage_ordered = (total_products_ordered / len(products)) * 100\n",
        "    return total_products_ordered, percentage_ordered\n",
        "\n",
        "def print_order_statistics(order_statistics):\n",
        "    \"\"\"Print the order statistics.\"\"\"\n",
        "    total_ordered, percentage_ordered = order_statistics\n",
        "    print(\"Order Statistics:\")\n",
        "    print(f\"Total Products Ordered: {total_ordered}\")\n",
        "    print(f\"Percentage of Products Ordered: {percentage_ordered:.2f}%\")\n",
        "\n",
        "def print_updated_inventory(inventory):\n",
        "    \"\"\"Print the updated inventory.\"\"\"\n",
        "    print(\"Updated Inventory:\")\n",
        "    for product, quantity in inventory.items():\n",
        "        print(f\"{product}: {quantity}\")\n",
        "\n",
        "# Main execution of the program\n",
        "products = [\"t-shirt\", \"mug\", \"hat\", \"book\", \"keychain\"]\n",
        "\n",
        "# Step 1: Initialize the inventory\n",
        "inventory = initialize_inventory(products)\n",
        "\n",
        "# Step 2: Get customer orders\n",
        "customer_orders = get_customer_orders()\n",
        "\n",
        "# Step 3: Calculate order statistics\n",
        "order_statistics = calculate_order_statistics(customer_orders, products)\n",
        "\n",
        "# Step 4: Print order statistics\n",
        "print_order_statistics(order_statistics)\n",
        "\n",
        "# Step 5: Update the inventory\n",
        "update_inventory(customer_orders, inventory)\n",
        "\n",
        "# Step 6: Print the updated inventory\n",
        "print_updated_inventory(inventory)\n"
      ]
    }
  ]
}